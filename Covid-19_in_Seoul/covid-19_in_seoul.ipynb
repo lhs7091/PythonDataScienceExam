{
 "cells": [
  {
   "cell_type": "markdown",
   "metadata": {},
   "source": [
    "# Analyze Covid-19 positive in Seoul\n",
    "\n",
    "- http://www.seoul.go.kr/coronaV/coronaStatus.do"
   ]
  },
  {
   "cell_type": "code",
   "execution_count": 1,
   "metadata": {},
   "outputs": [],
   "source": [
    "import pandas as pd"
   ]
  },
  {
   "cell_type": "code",
   "execution_count": 2,
   "metadata": {},
   "outputs": [
    {
     "data": {
      "text/plain": [
       "'https://www.seoul.go.kr/coronaV/coronaStatus.do'"
      ]
     },
     "execution_count": 2,
     "metadata": {},
     "output_type": "execute_result"
    }
   ],
   "source": [
    "# load URL for crawling\n",
    "url = \"https://www.seoul.go.kr/coronaV/coronaStatus.do\"\n",
    "url"
   ]
  },
  {
   "cell_type": "code",
   "execution_count": 3,
   "metadata": {},
   "outputs": [
    {
     "data": {
      "text/plain": [
       "[     소계  해외접촉관련  중구한화생명관련  강남구V빌딩관련  관악구사무실관련  강남구역삼동모임  도봉구요양시설관련  리치웨이관련  \\\n",
       " 0  1449     323         5         8         6        13         43     122   \n",
       " \n",
       "    부천시쿠팡관련  수도권개척교회관련  양천구운동시설관련  이태원클럽관련  구로구콜센터관련  타 시·도확진자접촉자   기타  경로확인중  \n",
       " 0       24         37         43      139        98           51  393    142  ,\n",
       "                                                    0\n",
       " 0  < 신종 코로나바이러스 감염증 예방 국민 행동수칙 >○ 기침 등 호흡기 증상이 있을...,\n",
       "                                                    0\n",
       " 0  < 신종 코로나바이러스 감염증 예방 의료기관 행동수칙 >○ 호흡기 질환자 진료시 마...,\n",
       "                                                    0\n",
       " 0  이 보도자료는 관련 발생 상황에 대한 정보를 신속 투명하게 공개하기 위한 것으로, ...,\n",
       "         연번     환자    확진일   거주지     여행력         접촉력         조치사항\n",
       " 0     1477  13769  7.19.   강서구       -        확인 중            -\n",
       " 1     1476  13758  7.19.   성북구       -        확인 중        서울의료원\n",
       " 2     1475  13761  7.19.  서대문구   인도네시아    해외 접촉 추정         서남병원\n",
       " 3     1474  13729  7.18.   관악구       -  중구 한화생명 관련        보라매병원\n",
       " 4     1473  13734  7.18.   관악구       -  중구 한화생명 관련        보라매병원\n",
       " ...    ...    ...    ...   ...     ...         ...          ...\n",
       " 1472     5      9  1.31.   성북구       -       #5 접촉    서울의료원(퇴원)\n",
       " 1473     4      7  1.30.   마포구  중국 우한시       해외 접촉    서울의료원(퇴원)\n",
       " 1474     3      6  1.30.   종로구       -       #3 접촉  서울대학교병원(퇴원)\n",
       " 1475     2      5  1.30.   중랑구  중국 우한시       해외 접촉    서울의료원(퇴원)\n",
       " 1476     1      2  1.24.   강서구  중국 우한시       해외 접촉  국립중앙의료원(퇴원)\n",
       " \n",
       " [1477 rows x 7 columns],\n",
       "                                                      연번    환자번호  \\\n",
       " 0     1477  <tr>  <td class=\"tdl\" colspan=\"5\">  <p>확...  #13769   \n",
       " 1     1476  <tr>  <td class=\"tdl\" colspan=\"5\">  <p>확...  #13758   \n",
       " 2     1475  <tr>  <td class=\"tdl\" colspan=\"5\">  <p>확...  #13761   \n",
       " 3     1474  <tr>  <td class=\"tdl\" colspan=\"5\">  <p>확...  #13729   \n",
       " 4     1473  <tr>  <td class=\"tdl\" colspan=\"5\">  <p>확...  #13734   \n",
       " ...                                                 ...     ...   \n",
       " 1472  5  <tr>  <td class=\"tdl\" colspan=\"5\">  <p>이동경로...      #9   \n",
       " 1473  4  <tr>  <td class=\"tdl\" colspan=\"5\">  <p>이동경로...      #7   \n",
       " 1474  3  <tr>  <td class=\"tdl\" colspan=\"5\">  <p>이동경로...      #6   \n",
       " 1475  2  <tr>  <td class=\"tdl\" colspan=\"5\">  <p>이동경로...      #5   \n",
       " 1476  1  <tr>  <td class=\"tdl\" colspan=\"5\">  <p>이동경로...      #2   \n",
       " \n",
       "                  감염경로   확진일   거주지         격리시설  \n",
       " 0                확인 중  7/19   강서구            -  \n",
       " 1                확인 중  7/19   성북구        서울의료원  \n",
       " 2     해외 접촉 추정(인도네시아)  7/19  서대문구         서남병원  \n",
       " 3          중구 한화생명 관련  7/18   관악구        보라매병원  \n",
       " 4          중구 한화생명 관련  7/18   관악구        보라매병원  \n",
       " ...               ...   ...   ...          ...  \n",
       " 1472            #5 접촉  1/31   성북구    서울의료원(퇴원)  \n",
       " 1473    해외 접촉(중국 우한시)  1/30   마포구    서울의료원(퇴원)  \n",
       " 1474            #3 접촉  1/30   종로구  서울대학교병원(퇴원)  \n",
       " 1475    해외 접촉(중국 우한시)  1/30   중랑구    서울의료원(퇴원)  \n",
       " 1476    해외 접촉(중국 우한시)  1/24   강서구  국립중앙의료원(퇴원)  \n",
       " \n",
       " [1477 rows x 6 columns]]"
      ]
     },
     "execution_count": 3,
     "metadata": {},
     "output_type": "execute_result"
    }
   ],
   "source": [
    "pd.read_html(url)"
   ]
  },
  {
   "cell_type": "code",
   "execution_count": 4,
   "metadata": {},
   "outputs": [
    {
     "data": {
      "text/plain": [
       "6"
      ]
     },
     "execution_count": 4,
     "metadata": {},
     "output_type": "execute_result"
    }
   ],
   "source": [
    "table = pd.read_html(url)\n",
    "len(table)"
   ]
  },
  {
   "cell_type": "code",
   "execution_count": 5,
   "metadata": {},
   "outputs": [
    {
     "data": {
      "text/html": [
       "<div>\n",
       "<style scoped>\n",
       "    .dataframe tbody tr th:only-of-type {\n",
       "        vertical-align: middle;\n",
       "    }\n",
       "\n",
       "    .dataframe tbody tr th {\n",
       "        vertical-align: top;\n",
       "    }\n",
       "\n",
       "    .dataframe thead th {\n",
       "        text-align: right;\n",
       "    }\n",
       "</style>\n",
       "<table border=\"1\" class=\"dataframe\">\n",
       "  <thead>\n",
       "    <tr style=\"text-align: right;\">\n",
       "      <th></th>\n",
       "      <th>0</th>\n",
       "    </tr>\n",
       "  </thead>\n",
       "  <tbody>\n",
       "    <tr>\n",
       "      <th>소계</th>\n",
       "      <td>1449</td>\n",
       "    </tr>\n",
       "    <tr>\n",
       "      <th>해외접촉관련</th>\n",
       "      <td>323</td>\n",
       "    </tr>\n",
       "    <tr>\n",
       "      <th>중구한화생명관련</th>\n",
       "      <td>5</td>\n",
       "    </tr>\n",
       "    <tr>\n",
       "      <th>강남구V빌딩관련</th>\n",
       "      <td>8</td>\n",
       "    </tr>\n",
       "    <tr>\n",
       "      <th>관악구사무실관련</th>\n",
       "      <td>6</td>\n",
       "    </tr>\n",
       "    <tr>\n",
       "      <th>강남구역삼동모임</th>\n",
       "      <td>13</td>\n",
       "    </tr>\n",
       "    <tr>\n",
       "      <th>도봉구요양시설관련</th>\n",
       "      <td>43</td>\n",
       "    </tr>\n",
       "    <tr>\n",
       "      <th>리치웨이관련</th>\n",
       "      <td>122</td>\n",
       "    </tr>\n",
       "    <tr>\n",
       "      <th>부천시쿠팡관련</th>\n",
       "      <td>24</td>\n",
       "    </tr>\n",
       "    <tr>\n",
       "      <th>수도권개척교회관련</th>\n",
       "      <td>37</td>\n",
       "    </tr>\n",
       "    <tr>\n",
       "      <th>양천구운동시설관련</th>\n",
       "      <td>43</td>\n",
       "    </tr>\n",
       "    <tr>\n",
       "      <th>이태원클럽관련</th>\n",
       "      <td>139</td>\n",
       "    </tr>\n",
       "    <tr>\n",
       "      <th>구로구콜센터관련</th>\n",
       "      <td>98</td>\n",
       "    </tr>\n",
       "    <tr>\n",
       "      <th>타 시·도확진자접촉자</th>\n",
       "      <td>51</td>\n",
       "    </tr>\n",
       "    <tr>\n",
       "      <th>기타</th>\n",
       "      <td>393</td>\n",
       "    </tr>\n",
       "    <tr>\n",
       "      <th>경로확인중</th>\n",
       "      <td>142</td>\n",
       "    </tr>\n",
       "  </tbody>\n",
       "</table>\n",
       "</div>"
      ],
      "text/plain": [
       "                0\n",
       "소계           1449\n",
       "해외접촉관련        323\n",
       "중구한화생명관련        5\n",
       "강남구V빌딩관련        8\n",
       "관악구사무실관련        6\n",
       "강남구역삼동모임       13\n",
       "도봉구요양시설관련      43\n",
       "리치웨이관련        122\n",
       "부천시쿠팡관련        24\n",
       "수도권개척교회관련      37\n",
       "양천구운동시설관련      43\n",
       "이태원클럽관련       139\n",
       "구로구콜센터관련       98\n",
       "타 시·도확진자접촉자    51\n",
       "기타            393\n",
       "경로확인중         142"
      ]
     },
     "execution_count": 5,
     "metadata": {},
     "output_type": "execute_result"
    }
   ],
   "source": [
    "table[0].T"
   ]
  },
  {
   "cell_type": "code",
   "execution_count": 6,
   "metadata": {},
   "outputs": [
    {
     "data": {
      "text/plain": [
       "(1477, 7)"
      ]
     },
     "execution_count": 6,
     "metadata": {},
     "output_type": "execute_result"
    }
   ],
   "source": [
    "df = table[4]\n",
    "df.shape"
   ]
  },
  {
   "cell_type": "code",
   "execution_count": 7,
   "metadata": {},
   "outputs": [
    {
     "data": {
      "text/html": [
       "<div>\n",
       "<style scoped>\n",
       "    .dataframe tbody tr th:only-of-type {\n",
       "        vertical-align: middle;\n",
       "    }\n",
       "\n",
       "    .dataframe tbody tr th {\n",
       "        vertical-align: top;\n",
       "    }\n",
       "\n",
       "    .dataframe thead th {\n",
       "        text-align: right;\n",
       "    }\n",
       "</style>\n",
       "<table border=\"1\" class=\"dataframe\">\n",
       "  <thead>\n",
       "    <tr style=\"text-align: right;\">\n",
       "      <th></th>\n",
       "      <th>연번</th>\n",
       "      <th>환자</th>\n",
       "      <th>확진일</th>\n",
       "      <th>거주지</th>\n",
       "      <th>여행력</th>\n",
       "      <th>접촉력</th>\n",
       "      <th>조치사항</th>\n",
       "    </tr>\n",
       "  </thead>\n",
       "  <tbody>\n",
       "    <tr>\n",
       "      <th>0</th>\n",
       "      <td>1477</td>\n",
       "      <td>13769</td>\n",
       "      <td>7.19.</td>\n",
       "      <td>강서구</td>\n",
       "      <td>-</td>\n",
       "      <td>확인 중</td>\n",
       "      <td>-</td>\n",
       "    </tr>\n",
       "    <tr>\n",
       "      <th>1</th>\n",
       "      <td>1476</td>\n",
       "      <td>13758</td>\n",
       "      <td>7.19.</td>\n",
       "      <td>성북구</td>\n",
       "      <td>-</td>\n",
       "      <td>확인 중</td>\n",
       "      <td>서울의료원</td>\n",
       "    </tr>\n",
       "    <tr>\n",
       "      <th>2</th>\n",
       "      <td>1475</td>\n",
       "      <td>13761</td>\n",
       "      <td>7.19.</td>\n",
       "      <td>서대문구</td>\n",
       "      <td>인도네시아</td>\n",
       "      <td>해외 접촉 추정</td>\n",
       "      <td>서남병원</td>\n",
       "    </tr>\n",
       "    <tr>\n",
       "      <th>3</th>\n",
       "      <td>1474</td>\n",
       "      <td>13729</td>\n",
       "      <td>7.18.</td>\n",
       "      <td>관악구</td>\n",
       "      <td>-</td>\n",
       "      <td>중구 한화생명 관련</td>\n",
       "      <td>보라매병원</td>\n",
       "    </tr>\n",
       "    <tr>\n",
       "      <th>4</th>\n",
       "      <td>1473</td>\n",
       "      <td>13734</td>\n",
       "      <td>7.18.</td>\n",
       "      <td>관악구</td>\n",
       "      <td>-</td>\n",
       "      <td>중구 한화생명 관련</td>\n",
       "      <td>보라매병원</td>\n",
       "    </tr>\n",
       "  </tbody>\n",
       "</table>\n",
       "</div>"
      ],
      "text/plain": [
       "     연번     환자    확진일   거주지    여행력         접촉력   조치사항\n",
       "0  1477  13769  7.19.   강서구      -        확인 중      -\n",
       "1  1476  13758  7.19.   성북구      -        확인 중  서울의료원\n",
       "2  1475  13761  7.19.  서대문구  인도네시아    해외 접촉 추정   서남병원\n",
       "3  1474  13729  7.18.   관악구      -  중구 한화생명 관련  보라매병원\n",
       "4  1473  13734  7.18.   관악구      -  중구 한화생명 관련  보라매병원"
      ]
     },
     "execution_count": 7,
     "metadata": {},
     "output_type": "execute_result"
    }
   ],
   "source": [
    "df.head()"
   ]
  },
  {
   "cell_type": "code",
   "execution_count": 8,
   "metadata": {},
   "outputs": [
    {
     "data": {
      "text/plain": [
       "'7_19_'"
      ]
     },
     "execution_count": 8,
     "metadata": {},
     "output_type": "execute_result"
    }
   ],
   "source": [
    "# to save csv file, \n",
    "# we get last day of confirmed from data\n",
    "# and . make system confused with extension, change _ \n",
    "last_day = df.loc[0, \"확진일\"]\n",
    "last_day = last_day.replace(\".\", \"_\")\n",
    "last_day"
   ]
  },
  {
   "cell_type": "code",
   "execution_count": 9,
   "metadata": {},
   "outputs": [
    {
     "data": {
      "text/plain": [
       "'covid-19_in_seoul_7_19_.csv'"
      ]
     },
     "execution_count": 9,
     "metadata": {},
     "output_type": "execute_result"
    }
   ],
   "source": [
    "# make file name\n",
    "file_name = f\"covid-19_in_seoul_{last_day}.csv\"\n",
    "file_name"
   ]
  },
  {
   "cell_type": "code",
   "execution_count": 10,
   "metadata": {},
   "outputs": [],
   "source": [
    "# save to csv file without index number\n",
    "df.to_csv(file_name, index=False)\n",
    "# if you want to open excel program,\n",
    "df.to_csv(file_name, index=False, encoding=\"utf-8\")"
   ]
  },
  {
   "cell_type": "code",
   "execution_count": 11,
   "metadata": {},
   "outputs": [
    {
     "data": {
      "text/html": [
       "<div>\n",
       "<style scoped>\n",
       "    .dataframe tbody tr th:only-of-type {\n",
       "        vertical-align: middle;\n",
       "    }\n",
       "\n",
       "    .dataframe tbody tr th {\n",
       "        vertical-align: top;\n",
       "    }\n",
       "\n",
       "    .dataframe thead th {\n",
       "        text-align: right;\n",
       "    }\n",
       "</style>\n",
       "<table border=\"1\" class=\"dataframe\">\n",
       "  <thead>\n",
       "    <tr style=\"text-align: right;\">\n",
       "      <th></th>\n",
       "      <th>연번</th>\n",
       "      <th>환자</th>\n",
       "      <th>확진일</th>\n",
       "      <th>거주지</th>\n",
       "      <th>여행력</th>\n",
       "      <th>접촉력</th>\n",
       "      <th>조치사항</th>\n",
       "    </tr>\n",
       "  </thead>\n",
       "  <tbody>\n",
       "    <tr>\n",
       "      <th>0</th>\n",
       "      <td>1477</td>\n",
       "      <td>13769</td>\n",
       "      <td>7.19.</td>\n",
       "      <td>강서구</td>\n",
       "      <td>-</td>\n",
       "      <td>확인 중</td>\n",
       "      <td>-</td>\n",
       "    </tr>\n",
       "    <tr>\n",
       "      <th>1</th>\n",
       "      <td>1476</td>\n",
       "      <td>13758</td>\n",
       "      <td>7.19.</td>\n",
       "      <td>성북구</td>\n",
       "      <td>-</td>\n",
       "      <td>확인 중</td>\n",
       "      <td>서울의료원</td>\n",
       "    </tr>\n",
       "    <tr>\n",
       "      <th>2</th>\n",
       "      <td>1475</td>\n",
       "      <td>13761</td>\n",
       "      <td>7.19.</td>\n",
       "      <td>서대문구</td>\n",
       "      <td>인도네시아</td>\n",
       "      <td>해외 접촉 추정</td>\n",
       "      <td>서남병원</td>\n",
       "    </tr>\n",
       "    <tr>\n",
       "      <th>3</th>\n",
       "      <td>1474</td>\n",
       "      <td>13729</td>\n",
       "      <td>7.18.</td>\n",
       "      <td>관악구</td>\n",
       "      <td>-</td>\n",
       "      <td>중구 한화생명 관련</td>\n",
       "      <td>보라매병원</td>\n",
       "    </tr>\n",
       "    <tr>\n",
       "      <th>4</th>\n",
       "      <td>1473</td>\n",
       "      <td>13734</td>\n",
       "      <td>7.18.</td>\n",
       "      <td>관악구</td>\n",
       "      <td>-</td>\n",
       "      <td>중구 한화생명 관련</td>\n",
       "      <td>보라매병원</td>\n",
       "    </tr>\n",
       "    <tr>\n",
       "      <th>...</th>\n",
       "      <td>...</td>\n",
       "      <td>...</td>\n",
       "      <td>...</td>\n",
       "      <td>...</td>\n",
       "      <td>...</td>\n",
       "      <td>...</td>\n",
       "      <td>...</td>\n",
       "    </tr>\n",
       "    <tr>\n",
       "      <th>1472</th>\n",
       "      <td>5</td>\n",
       "      <td>9</td>\n",
       "      <td>1.31.</td>\n",
       "      <td>성북구</td>\n",
       "      <td>-</td>\n",
       "      <td>#5 접촉</td>\n",
       "      <td>서울의료원(퇴원)</td>\n",
       "    </tr>\n",
       "    <tr>\n",
       "      <th>1473</th>\n",
       "      <td>4</td>\n",
       "      <td>7</td>\n",
       "      <td>1.30.</td>\n",
       "      <td>마포구</td>\n",
       "      <td>중국 우한시</td>\n",
       "      <td>해외 접촉</td>\n",
       "      <td>서울의료원(퇴원)</td>\n",
       "    </tr>\n",
       "    <tr>\n",
       "      <th>1474</th>\n",
       "      <td>3</td>\n",
       "      <td>6</td>\n",
       "      <td>1.30.</td>\n",
       "      <td>종로구</td>\n",
       "      <td>-</td>\n",
       "      <td>#3 접촉</td>\n",
       "      <td>서울대학교병원(퇴원)</td>\n",
       "    </tr>\n",
       "    <tr>\n",
       "      <th>1475</th>\n",
       "      <td>2</td>\n",
       "      <td>5</td>\n",
       "      <td>1.30.</td>\n",
       "      <td>중랑구</td>\n",
       "      <td>중국 우한시</td>\n",
       "      <td>해외 접촉</td>\n",
       "      <td>서울의료원(퇴원)</td>\n",
       "    </tr>\n",
       "    <tr>\n",
       "      <th>1476</th>\n",
       "      <td>1</td>\n",
       "      <td>2</td>\n",
       "      <td>1.24.</td>\n",
       "      <td>강서구</td>\n",
       "      <td>중국 우한시</td>\n",
       "      <td>해외 접촉</td>\n",
       "      <td>국립중앙의료원(퇴원)</td>\n",
       "    </tr>\n",
       "  </tbody>\n",
       "</table>\n",
       "<p>1477 rows × 7 columns</p>\n",
       "</div>"
      ],
      "text/plain": [
       "        연번     환자    확진일   거주지     여행력         접촉력         조치사항\n",
       "0     1477  13769  7.19.   강서구       -        확인 중            -\n",
       "1     1476  13758  7.19.   성북구       -        확인 중        서울의료원\n",
       "2     1475  13761  7.19.  서대문구   인도네시아    해외 접촉 추정         서남병원\n",
       "3     1474  13729  7.18.   관악구       -  중구 한화생명 관련        보라매병원\n",
       "4     1473  13734  7.18.   관악구       -  중구 한화생명 관련        보라매병원\n",
       "...    ...    ...    ...   ...     ...         ...          ...\n",
       "1472     5      9  1.31.   성북구       -       #5 접촉    서울의료원(퇴원)\n",
       "1473     4      7  1.30.   마포구  중국 우한시       해외 접촉    서울의료원(퇴원)\n",
       "1474     3      6  1.30.   종로구       -       #3 접촉  서울대학교병원(퇴원)\n",
       "1475     2      5  1.30.   중랑구  중국 우한시       해외 접촉    서울의료원(퇴원)\n",
       "1476     1      2  1.24.   강서구  중국 우한시       해외 접촉  국립중앙의료원(퇴원)\n",
       "\n",
       "[1477 rows x 7 columns]"
      ]
     },
     "execution_count": 11,
     "metadata": {},
     "output_type": "execute_result"
    }
   ],
   "source": [
    "# check save file\n",
    "pd.read_csv(file_name)"
   ]
  },
  {
   "cell_type": "code",
   "execution_count": null,
   "metadata": {},
   "outputs": [],
   "source": []
  }
 ],
 "metadata": {
  "kernelspec": {
   "display_name": "Python 3",
   "language": "python",
   "name": "python3"
  },
  "language_info": {
   "codemirror_mode": {
    "name": "ipython",
    "version": 3
   },
   "file_extension": ".py",
   "mimetype": "text/x-python",
   "name": "python",
   "nbconvert_exporter": "python",
   "pygments_lexer": "ipython3",
   "version": "3.6.10"
  }
 },
 "nbformat": 4,
 "nbformat_minor": 4
}
